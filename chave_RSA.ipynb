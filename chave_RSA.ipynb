{
  "nbformat": 4,
  "nbformat_minor": 0,
  "metadata": {
    "colab": {
      "provenance": [],
      "authorship_tag": "ABX9TyMPf82u9xDtDu8zeKizU33h",
      "include_colab_link": true
    },
    "kernelspec": {
      "name": "python3",
      "display_name": "Python 3"
    },
    "language_info": {
      "name": "python"
    }
  },
  "cells": [
    {
      "cell_type": "markdown",
      "metadata": {
        "id": "view-in-github",
        "colab_type": "text"
      },
      "source": [
        "<a href=\"https://colab.research.google.com/github/jessicapradocosta/ChaveRSA/blob/main/chave_RSA.ipynb\" target=\"_parent\"><img src=\"https://colab.research.google.com/assets/colab-badge.svg\" alt=\"Open In Colab\"/></a>"
      ]
    },
    {
      "cell_type": "code",
      "source": [
        "from cryptography.hazmat.primitives import serialization\n",
        "from cryptography.hazmat.primitives.asymmetric import rsa\n",
        "\n",
        "# Gere um par de chaves RSA\n",
        "private_key = rsa.generate_private_key(\n",
        "    public_exponent=65537,  # Valor padrão geralmente utilizado\n",
        "    key_size=2048  # Tamanho da chave em bits\n",
        ")\n",
        "\n",
        "# Obtenha a chave pública\n",
        "public_key = private_key.public_key()\n",
        "\n",
        "# Exporte a chave privada em formato PEM\n",
        "pem_private_key = private_key.private_bytes(\n",
        "    encoding=serialization.Encoding.PEM,\n",
        "    format=serialization.PrivateFormat.PKCS8,\n",
        "    encryption_algorithm=serialization.NoEncryption()\n",
        ")\n",
        "\n",
        "# Exporte a chave pública em formato PEM\n",
        "pem_public_key = public_key.public_bytes(\n",
        "    encoding=serialization.Encoding.PEM,\n",
        "    format=serialization.PublicFormat.SubjectPublicKeyInfo\n",
        ")\n",
        "\n",
        "# Salve as chaves em arquivos\n",
        "with open(\"private_key.pem\", \"wb\") as private_file:\n",
        "    private_file.write(pem_private_key)\n",
        "\n",
        "with open(\"public_key.pem\", \"wb\") as public_file:\n",
        "    public_file.write(pem_public_key)"
      ],
      "metadata": {
        "id": "zV-JyVQgWkxI"
      },
      "execution_count": null,
      "outputs": []
    }
  ]
}